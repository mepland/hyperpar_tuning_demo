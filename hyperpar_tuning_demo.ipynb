{
 "cells": [
  {
   "cell_type": "markdown",
   "metadata": {},
   "source": [
    "# Hyperparameter Tuning Demo\n",
    "### Matthew Epland, PhD\n",
    "Partially adapted from the [sklearn documentation](https://scikit-learn.org/stable/auto_examples/model_selection/plot_randomized_search.html)"
   ]
  },
  {
   "cell_type": "code",
   "execution_count": null,
   "metadata": {},
   "outputs": [],
   "source": [
    "%load_ext autoreload\n",
    "%autoreload 2\n",
    "\n",
    "########################################################\n",
    "# python\n",
    "import pandas as pd\n",
    "import numpy as np\n",
    "import warnings\n",
    "from time import time\n",
    "# from copy import copy\n",
    "import json\n",
    "from collections import OrderedDict\n",
    "\n",
    "from scipy.io import arff\n",
    "from scipy.stats import randint, uniform\n",
    "\n",
    "########################################################\n",
    "# xgboost, sklearn\n",
    "import xgboost as xgb\n",
    "\n",
    "warnings.filterwarnings('ignore', message='sklearn.externals.joblib is deprecated in 0.21 and will be removed in 0.23')\n",
    "from sklearn.model_selection import train_test_split, StratifiedKFold\n",
    "from sklearn.model_selection import RandomizedSearchCV, GridSearchCV\n",
    "# from sklearn.metrics import log_loss\n",
    "from sklearn.metrics import roc_curve, auc, roc_auc_score\n",
    "\n",
    "########################################################\n",
    "# skopt\n",
    "from skopt import Optimizer\n",
    "from skopt.learning import GaussianProcessRegressor, RandomForestRegressor, GradientBoostingQuantileRegressor\n",
    "from skopt.learning.gaussian_process.kernels import RBF, WhiteKernel\n",
    "from sklearn.ensemble import GradientBoostingRegressor\n",
    "\n",
    "########################################################\n",
    "# hyperopt\n",
    "from hyperopt import hp, tpe, fmin, Trials\n",
    "\n",
    "########################################################\n",
    "# plotting\n",
    "import matplotlib as mpl\n",
    "import matplotlib.pyplot as plt\n",
    "%matplotlib inline\n",
    "\n",
    "########################################################\n",
    "# globals\n",
    "rnd_seed = 11\n",
    "n_folds = 2"
   ]
  },
  {
   "cell_type": "code",
   "execution_count": null,
   "metadata": {},
   "outputs": [],
   "source": [
    "# TODO tweak\n",
    "n_iters ={\n",
    "    'RS': 200, # also multiplied by n_folds\n",
    "     # 'GS': set by the size of the grid, and n_folds\n",
    "    'GP': 200,\n",
    "    'RF': 200,\n",
    "    'GBDT': 200,\n",
    "    'TPE': 200,\n",
    "}\n",
    "\n",
    "# for testing set all to a low number (40)\n",
    "for k,v in n_iters.items():\n",
    "    n_iters[k] = 40"
   ]
  },
  {
   "cell_type": "code",
   "execution_count": null,
   "metadata": {},
   "outputs": [],
   "source": [
    "from plotting import * # load plotting code from plotting.py"
   ]
  },
  {
   "cell_type": "code",
   "execution_count": null,
   "metadata": {},
   "outputs": [],
   "source": [
    "# Utility function to report best scores from sklearn searches\n",
    "def report(results, n_top=3):\n",
    "    results = results.cv_results_\n",
    "    for i in range(1, n_top+1):\n",
    "        candidates = np.flatnonzero(results['rank_test_score'] == i)\n",
    "        for candidate in candidates:\n",
    "            print(f'Model with rank: {i}')\n",
    "            print(f\"Mean validation score: {results['mean_test_score'][candidate]:.3f} (std: {results['std_test_score'][candidate]:.3f})\")\n",
    "            print('Parameters: {0}\\n'.format(results['params'][candidate]))"
   ]
  },
  {
   "cell_type": "code",
   "execution_count": null,
   "metadata": {},
   "outputs": [],
   "source": [
    "# Utility to save iteration results from sklearn searches\n",
    "def output_sklearn_to_csv(sklearn_result, m_path='output', tag=''):\n",
    "    cols_dict = {}\n",
    "    cols_dict['y'] = [-y for y in sklearn_result.cv_results_['mean_test_score']]\n",
    "    for param in params_to_be_opt:\n",
    "        cols_dict[param] = list(sklearn_result.cv_results_[f'param_{param}'])\n",
    "\n",
    "    df = pd.DataFrame(cols_dict)\n",
    "    df['auc'] = -df['y']\n",
    "    df = df.reset_index().rename(columns={'index': 'iter'})\n",
    "    df = df[['iter', 'y', 'auc']+params_to_be_opt]\n",
    "    df.to_csv(f'{m_path}/iter_results{tag}.csv', index=False, na_rep='nan')\n",
    "\n",
    "    df_best = df.copy()\n",
    "    df_best = df_best.loc[df_best['y'].min() == df_best['y']]\n",
    "    df_best = df_best.sort_values(by=params_to_be_opt).reset_index(drop=True)\n",
    "    df_best = df_best[['y', 'auc']+params_to_be_opt]\n",
    "    df_best.to_csv(f'{m_path}/best_params_points{tag}.csv', index=False, na_rep='nan')"
   ]
  },
  {
   "cell_type": "markdown",
   "metadata": {},
   "source": [
    "Need to implement our own custom scorer to actually use the best number of trees found by early stopping.\n",
    "See the [documentation](https://scikit-learn.org/stable/modules/model_evaluation.html#implementing-your-own-scoring-object) for details."
   ]
  },
  {
   "cell_type": "code",
   "execution_count": null,
   "metadata": {},
   "outputs": [],
   "source": [
    "def xgb_early_stopping_auc_scorer(model, X, y):\n",
    "    # predict_proba may not be thread safe, so copy the object - unfortunately getting crashes so just use the original object\n",
    "    # model = copy.copy(model_in)\n",
    "    y_pred = model.predict_proba(X, ntree_limit=model.best_ntree_limit)\n",
    "    y_pred_sig = y_pred[:,1]\n",
    "    return roc_auc_score(y, y_pred_sig)"
   ]
  },
  {
   "cell_type": "markdown",
   "metadata": {},
   "source": [
    "## Load Polish Companies Bankruptcy Data\n",
    "#### [Source and data dictionary](http://archive.ics.uci.edu/ml/datasets/Polish+companies+bankruptcy+data)"
   ]
  },
  {
   "cell_type": "code",
   "execution_count": null,
   "metadata": {},
   "outputs": [],
   "source": [
    "data = arff.loadarff('./data/1year.arff')\n",
    "df = pd.DataFrame(data[0])\n",
    "df['class'] = df['class'].apply(int, args=(2,))"
   ]
  },
  {
   "cell_type": "code",
   "execution_count": null,
   "metadata": {},
   "outputs": [],
   "source": [
    "# Real feature names\n",
    "with open ('./attrs.json') as json_file:\n",
    "    attrs_dict = json.load(json_file)"
   ]
  },
  {
   "cell_type": "markdown",
   "metadata": {},
   "source": [
    "Setup Target and Features"
   ]
  },
  {
   "cell_type": "code",
   "execution_count": null,
   "metadata": {},
   "outputs": [],
   "source": [
    "target='class'\n",
    "features = sorted(list(set(df.columns)-set([target])))"
   ]
  },
  {
   "cell_type": "markdown",
   "metadata": {},
   "source": [
    "Make Train, Validation, and Holdout Sets"
   ]
  },
  {
   "cell_type": "code",
   "execution_count": null,
   "metadata": {},
   "outputs": [],
   "source": [
    "X = df[features].values\n",
    "y = df[target].values\n",
    "\n",
    "X_tmp, X_holdout, y_tmp, y_holdout = train_test_split(X, y, test_size=0.2, random_state=rnd_seed, stratify=y)\n",
    "X_train, X_val, y_train, y_val = train_test_split(X_tmp, y_tmp, test_size=0.2, random_state=rnd_seed+1, stratify=y_tmp)\n",
    "del X_tmp; del y_tmp"
   ]
  },
  {
   "cell_type": "markdown",
   "metadata": {},
   "source": [
    "Prepare Stratified k-Folds"
   ]
  },
  {
   "cell_type": "code",
   "execution_count": null,
   "metadata": {},
   "outputs": [],
   "source": [
    "skf = StratifiedKFold(n_splits=n_folds, shuffle=True, random_state=rnd_seed+2)"
   ]
  },
  {
   "cell_type": "markdown",
   "metadata": {},
   "source": [
    "## Setup Hyperparameter Search Space\n",
    "#### See the [docs here](https://xgboost.readthedocs.io/en/latest/parameter.html) for XGBoost hyperparameter details."
   ]
  },
  {
   "cell_type": "code",
   "execution_count": null,
   "metadata": {},
   "outputs": [],
   "source": [
    "all_params = OrderedDict({\n",
    "    'max_depth': {'initial': 5, 'range': (3, 10), 'dist': randint(3, 10), 'grid': [5, 6, 8], 'hp': hp.choice('max_depth', range(3, 11))},\n",
    "        # default=6, Maximum depth of a tree. Increasing this value will make the model more complex and more likely to overfit.\n",
    "    'learning_rate': {'initial': 0.3, 'range': (0.05, 0.6), 'dist': uniform(0.05, 0.6), 'grid': [0.05, 0.15, 0.3, 0.4], 'hp': hp.uniform('learning_rate', 0.05, 0.6)},\n",
    "        # NOTE: Optimizing the log of the learning rate would be better, but avoid that complexity for this demo...\n",
    "        # default=0.3, Step size shrinkage used in update to prevents overfitting. After each boosting step, we can directly get the weights of new features, and eta shrinks the feature weights to make the boosting process more conservative. alias: learning_rate\n",
    "    'min_child_weight': {'initial': 1., 'range': (1., 10.), 'dist': uniform(1., 10.), 'grid': [1., 2.], 'hp': hp.uniform('min_child_weight', 1., 10.)},\n",
    "        # default=1, Minimum sum of instance weight (hessian) needed in a child. If the tree partition step results in a leaf node with the sum of instance weight less than min_child_weight, then the building process will give up further partitioning. In linear regression task, this simply corresponds to minimum number of instances needed to be in each node. The larger min_child_weight is, the more conservative the algorithm will be.\n",
    "    'gamma': {'initial': 0., 'range': (0., 5.), 'dist': uniform(0., 5.), 'grid': [0, 1], 'hp': hp.uniform('gamma', 0., 5.)},\n",
    "        # default=0, Minimum loss reduction required to make a further partition on a leaf node of the tree. The larger gamma is, the more conservative the algorithm will be. alias: min_split_loss\n",
    "    # 'max_delta_step': {'initial': 0., 'range': (0., 5.), 'dist': uniform(0., 5.), 'grid': [0., 1., 2.], 'hp': hp.uniform('max_delta_step', 0., 5.)},\n",
    "        # default=0, Maximum delta step we allow each leaf output to be. If the value is set to 0, it means there is no constraint. If it is set to a positive value, it can help making the update step more conservative. Usually this parameter is not needed, but it might help in logistic regression when class is extremely imbalanced. Set it to value of 1-10 might help control the update.\n",
    "    # 'reg_alpha': {'initial': 0., 'range': (0., 5.), 'dist': uniform(0., 5.), 'grid': [0., 1., 3.], 'hp': hp.uniform('reg_alpha', 0., 5.)},\n",
    "        # default=0, L1 regularization term on weights. Increasing this value will make model more conservative.\n",
    "    # 'reg_lambda': {'initial': 1., 'range': (0., 5.), 'dist': uniform(0., 5.), 'grid': [0., 1., 3], 'hp': hp.uniform('reg_lambda', 0., 5.)},\n",
    "        # default=1, L2 regularization term on weights. Increasing this value will make model more conservative.\n",
    "    # 'colsample_bytree': {'initial': 1., 'range': (0.5, 1.), 'dist': uniform(0.5, 1.), 'grid': [0.5, 1.], 'hp': hp.uniform('colsample_bytree', 0.5, 1.)},\n",
    "        # default=1, Subsample ratio of columns when constructing each tree.\n",
    "    # 'subsample': {'initial': 1., 'range': (0.5, 1.), 'dist': uniform(0.5, 1.), 'grid': [0.5, 1.], 'hp': hp.uniform('subsample', 0.5, 1.)},\n",
    "        # default=1, Subsample ratio of the training instances. Setting it to 0.5 means that XGBoost would randomly sample half of the training data prior to growing trees. and this will prevent overfitting. Subsampling will occur once in every boosting iteration.\n",
    "})\n"
   ]
  },
  {
   "cell_type": "code",
   "execution_count": null,
   "metadata": {},
   "outputs": [],
   "source": [
    "# break out the params_to_be_opt, and their ranges (dimensions), and initial values\n",
    "params_to_be_opt = []\n",
    "dimensions = []\n",
    "for k,v in all_params.items():\n",
    "    params_to_be_opt.append(k)\n",
    "    dimensions.append(v['range'])\n",
    "\n",
    "# break out dictionaries for each optimizer\n",
    "params_initial = {}\n",
    "param_dists = {}\n",
    "param_grids = {}\n",
    "param_hp_dists = OrderedDict()\n",
    "for k,v in all_params.items():\n",
    "    params_initial[k] = v['initial']\n",
    "    param_dists[k] = v['dist']\n",
    "    param_grids[k] = v['grid']\n",
    "    param_hp_dists[k] = v['hp']\n",
    "\n",
    "# make helper param index dict\n",
    "param_index_dict = {}\n",
    "for iparam, param in enumerate(params_to_be_opt):\n",
    "    param_index_dict[param] = iparam"
   ]
  },
  {
   "cell_type": "markdown",
   "metadata": {},
   "source": [
    "#### Set other fixed hyperparameters"
   ]
  },
  {
   "cell_type": "code",
   "execution_count": null,
   "metadata": {},
   "outputs": [],
   "source": [
    "fixed_setup_params = {\n",
    "'max_num_boost_rounds': 500, # maximum number of boosting rounds to run / trees to create\n",
    "'xgb_objective': 'binary:logistic', # objective function for binary classification\n",
    "'xgb_verbosity': 0, #  The degree of verbosity. Valid values are 0 (silent) - 3 (debug).\n",
    "'xgb_n_jobs': -1, # Number of parallel threads used to run XGBoost. -1 makes use of all cores in your system\n",
    "}\n",
    "\n",
    "# search_scoring = 'roc_auc' # need to use custom function to work properly with xgb early stopping, see xgb_early_stopping_auc_scorer\n",
    "search_n_jobs = -1 # Number of parallel threads used to run hyperparameter searches. -1 makes use of all cores in your system\n",
    "search_verbosity = 1"
   ]
  },
  {
   "cell_type": "code",
   "execution_count": null,
   "metadata": {},
   "outputs": [],
   "source": [
    "fixed_fit_params = {\n",
    "    'early_stopping_rounds': 10, # must see improvement over last num_early_stopping_rounds or will halt\n",
    "    'eval_set': [(X_val, y_val)], # data sets to use for early stopping evaluation\n",
    "    'eval_metric': 'logloss', # evaluation metric for early stopping\n",
    "    'verbose': False, # even more verbosity control\n",
    "}"
   ]
  },
  {
   "cell_type": "markdown",
   "metadata": {},
   "source": [
    "#### Setup XGBClassifier"
   ]
  },
  {
   "cell_type": "code",
   "execution_count": null,
   "metadata": {},
   "outputs": [],
   "source": [
    "xgb_model = xgb.XGBClassifier(n_estimators=fixed_setup_params['max_num_boost_rounds'],\n",
    "                              objective=fixed_setup_params['xgb_objective'],\n",
    "                              verbosity=fixed_setup_params['xgb_verbosity'],\n",
    "                              random_state=rnd_seed+3)"
   ]
  },
  {
   "cell_type": "markdown",
   "metadata": {},
   "source": [
    "#### Run with initial hyperparameters as a baseline"
   ]
  },
  {
   "cell_type": "code",
   "execution_count": null,
   "metadata": {},
   "outputs": [],
   "source": [
    "model_initial = xgb.XGBClassifier(n_estimators=fixed_setup_params['max_num_boost_rounds'],\n",
    "                                  objective=fixed_setup_params['xgb_objective'],\n",
    "                                  verbosity=fixed_setup_params['xgb_verbosity'],\n",
    "                                  random_state=rnd_seed+3, **params_initial)\n",
    "model_initial.fit(X_train, y_train, **fixed_fit_params)"
   ]
  },
  {
   "cell_type": "code",
   "execution_count": null,
   "metadata": {},
   "outputs": [],
   "source": [
    "y_initial = -xgb_early_stopping_auc_scorer(model_initial, X_val, y_val)"
   ]
  },
  {
   "cell_type": "markdown",
   "metadata": {},
   "source": [
    "# Random Search"
   ]
  },
  {
   "cell_type": "code",
   "execution_count": null,
   "metadata": {},
   "outputs": [],
   "source": [
    "rs = RandomizedSearchCV(estimator=xgb_model, param_distributions=param_dists, scoring=xgb_early_stopping_auc_scorer,\n",
    "                        n_iter=n_iters['RS'], n_jobs=search_n_jobs, cv=skf, verbose=search_verbosity, random_state=rnd_seed+4\n",
    "                       )"
   ]
  },
  {
   "cell_type": "code",
   "execution_count": null,
   "metadata": {},
   "outputs": [],
   "source": [
    "rs_start = time()\n",
    "\n",
    "rs.fit(X_train, y_train, groups=None, **fixed_fit_params)\n",
    "\n",
    "rs_time = time()-rs_start\n",
    "\n",
    "print(f\"RandomizedSearchCV took {rs_time:.2f} seconds for {n_iters['RS']} candidates parameter settings\")"
   ]
  },
  {
   "cell_type": "code",
   "execution_count": null,
   "metadata": {},
   "outputs": [],
   "source": [
    "report(rs)"
   ]
  },
  {
   "cell_type": "code",
   "execution_count": null,
   "metadata": {},
   "outputs": [],
   "source": [
    "output_sklearn_to_csv(rs, tag='_RS')"
   ]
  },
  {
   "cell_type": "code",
   "execution_count": null,
   "metadata": {},
   "outputs": [],
   "source": [
    "plot_convergence(y_values=np.array([-y for y in rs.cv_results_['mean_test_score']]), ann_text='RS', tag='_RS', y_initial=y_initial)"
   ]
  },
  {
   "cell_type": "code",
   "execution_count": null,
   "metadata": {},
   "outputs": [],
   "source": [
    "# search time, best model, best params, for later comparison\n",
    "# print(rs_time)\n",
    "# print(rs.best_estimator_)\n",
    "# print(rs.best_params_)"
   ]
  },
  {
   "cell_type": "markdown",
   "metadata": {},
   "source": [
    "# Grid Search"
   ]
  },
  {
   "cell_type": "code",
   "execution_count": null,
   "metadata": {},
   "outputs": [],
   "source": [
    "gs = GridSearchCV(estimator=xgb_model, param_grid=param_grids, scoring=xgb_early_stopping_auc_scorer,\n",
    "                  n_jobs=search_n_jobs, cv=skf, verbose=search_verbosity # , iid=False\n",
    "                 )"
   ]
  },
  {
   "cell_type": "code",
   "execution_count": null,
   "metadata": {},
   "outputs": [],
   "source": [
    "gs_start = time()\n",
    "\n",
    "gs.fit(X_train, y_train, groups=None, **fixed_fit_params)\n",
    "\n",
    "gs_time = time()-gs_start\n",
    "\n",
    "print(f\"GridSearchCV took {gs_time:.2f} seconds for {len(gs.cv_results_['params'])} candidates parameter settings\")"
   ]
  },
  {
   "cell_type": "code",
   "execution_count": null,
   "metadata": {},
   "outputs": [],
   "source": [
    "report(gs)"
   ]
  },
  {
   "cell_type": "code",
   "execution_count": null,
   "metadata": {},
   "outputs": [],
   "source": [
    "output_sklearn_to_csv(gs, tag='_GS')"
   ]
  },
  {
   "cell_type": "code",
   "execution_count": null,
   "metadata": {},
   "outputs": [],
   "source": [
    "plot_convergence(y_values=[-y for y in gs.cv_results_['mean_test_score']], ann_text='GS', tag='_GS', y_initial=y_initial)"
   ]
  },
  {
   "cell_type": "code",
   "execution_count": null,
   "metadata": {},
   "outputs": [],
   "source": [
    "# search time, best model, best params, for later comparison\n",
    "# print(gs_time)\n",
    "# print(gs.best_estimator_)\n",
    "# print(gs.best_params_)"
   ]
  },
  {
   "cell_type": "markdown",
   "metadata": {},
   "source": [
    "# Setup datasets and objective function for custom searches"
   ]
  },
  {
   "cell_type": "code",
   "execution_count": null,
   "metadata": {},
   "outputs": [],
   "source": [
    "# make _BO train and val sets from regular train set, will use these for early stopping and regular val set for testing while iterating in the optimizers\n",
    "X_train_OPT, X_val_OPT, y_train_OPT, y_val_OPT = train_test_split(X_train, y_train, test_size=0.2, random_state=rnd_seed+5, stratify=y_train)"
   ]
  },
  {
   "cell_type": "code",
   "execution_count": null,
   "metadata": {},
   "outputs": [],
   "source": [
    "# setup the function to be optimized\n",
    "def objective_function(params):\n",
    "    model = xgb.XGBClassifier(n_estimators=fixed_setup_params['max_num_boost_rounds'], objective=fixed_setup_params['xgb_objective'], verbosity=fixed_setup_params['xgb_verbosity'], random_state=rnd_seed+6, **params)\n",
    "    model.fit(X_train_OPT, y_train_OPT, early_stopping_rounds=fixed_fit_params['early_stopping_rounds'], eval_set=[(X_val_OPT, y_val_OPT)], eval_metric=fixed_fit_params['eval_metric'], verbose=fixed_fit_params['verbose'])\n",
    "\n",
    "    best_ntree_limit = model.best_ntree_limit\n",
    "    if best_ntree_limit >= fixed_setup_params['max_num_boost_rounds']:\n",
    "        print(f\"Hit max_num_boost_rounds = {fixed_setup_params['max_num_boost_rounds']:d}, model.best_ntree_limit = {best_ntree_limit:d}\")\n",
    "\n",
    "    # return the negative auc of the trained model, since Optimizer and hyperopt only minimize\n",
    "    return -xgb_early_stopping_auc_scorer(model, X_val, y_val)"
   ]
  },
  {
   "cell_type": "markdown",
   "metadata": {},
   "source": [
    "# Bayesian Optimization"
   ]
  },
  {
   "cell_type": "code",
   "execution_count": null,
   "metadata": {},
   "outputs": [],
   "source": [
    "frac_initial_points = 0.1\n",
    "acq_func='gp_hedge' # select the best of EI, PI, LCB per iteration"
   ]
  },
  {
   "cell_type": "code",
   "execution_count": null,
   "metadata": {},
   "outputs": [],
   "source": [
    "def run_bo(bo_opt, bo_n_iter, ann_text, m_path='output', tag='', params_initial=None, y_initial=None, print_interval=5, debug=False):\n",
    "    iter_results = []\n",
    "    if params_initial is not None and y_initial is not None:\n",
    "        # update bo_opt with the initial point, might as well since we have already computed it!\n",
    "        x_initial = [params_initial[param] for param in params_to_be_opt]\n",
    "        bo_opt.tell(x_initial, y_initial)\n",
    "\n",
    "        initial_row = {'iter':0, 'y':y_initial, 'auc':-y_initial}\n",
    "        for param in params_to_be_opt:\n",
    "            initial_row[param] = params_initial[param]\n",
    "        iter_results.append(initial_row)\n",
    "\n",
    "    # we'll print these warnings ourselves\n",
    "    warnings.filterwarnings('ignore', message='The objective has been evaluated at this point before.')\n",
    "\n",
    "    # run it\n",
    "    for i_iter in range(1,bo_n_iter):\n",
    "        is_last = False\n",
    "        if i_iter+1 == bo_n_iter:\n",
    "            is_last = True\n",
    "\n",
    "        print_this_i = False\n",
    "        if is_last or (print_interval !=0 and (print_interval < 0 or (print_interval > 0 and i_iter % print_interval == 0))):\n",
    "            print_this_i = True\n",
    "            print(f'Starting iteration {i_iter:d}')\n",
    "\n",
    "        # get next test point x, ie a new point beta in parameter space\n",
    "        x = bo_opt.ask()\n",
    "\n",
    "        is_repeat = False\n",
    "        if x in bo_opt.Xi:\n",
    "            is_repeat = True\n",
    "            # we have already evaluated objective_function at this point! Pull old value, give it back and continue.\n",
    "            # not very elegant, might still get a warning from Optimizer, but at least is MUCH faster than recomputing objective_function...\n",
    "            past_i_iter = bo_opt.Xi.index(x)\n",
    "            y = bo_opt.yi[past_i_iter] # get from bo_opt array to be sure it's the right one\n",
    "\n",
    "            if debug:\n",
    "                print('Already evaluated at this x (params below)! Just using the old result for y and continuing!')\n",
    "                print(x)\n",
    "\n",
    "        else:\n",
    "            # run the training and predictions for the test point\n",
    "            params = {}\n",
    "            for param,value in zip(params_to_be_opt,x):\n",
    "                params[param] = value\n",
    "            y = objective_function(params)\n",
    "        # update bo_opt with the result for the test point\n",
    "        bo_opt.tell(x, y)\n",
    "\n",
    "        # save to df\n",
    "        iter_result = {'iter':i_iter, 'y':y, 'auc':-y} # , 'x': str(x)\n",
    "        for param,value in zip(params_to_be_opt,x):\n",
    "            iter_result[param] = value\n",
    "        iter_results.append(iter_result)\n",
    "\n",
    "        # see if it is a min\n",
    "        is_best = False\n",
    "        if i_iter != 0 and y == np.array(bo_opt.yi).min():\n",
    "            is_best = True\n",
    "\n",
    "        # print messages and plots while still running\n",
    "        if print_this_i or is_last or (is_best and not is_repeat):\n",
    "            if is_best:\n",
    "                print('Found a new optimum set of hyper parameters!')\n",
    "            print(x)\n",
    "            print(f'y: {y:.5f}')\n",
    "\n",
    "            df_tmp = pd.DataFrame.from_dict(iter_results)\n",
    "\n",
    "            plot_convergence(df_tmp['y'], ann_text, m_path, tag=tag, y_initial=y_initial)\n",
    "\n",
    "    # save iter results to csv\n",
    "    df_iter_results = pd.DataFrame.from_dict(iter_results)\n",
    "    df_iter_results = df_iter_results.sort_values(by='iter').reset_index(drop=True)\n",
    "    fixed_cols = ['iter', 'y', 'auc']+params_to_be_opt\n",
    "    cols = fixed_cols + list(set(df_iter_results.columns)-set(fixed_cols))\n",
    "    df_iter_results = df_iter_results[cols]\n",
    "    df_iter_results.to_csv(f'{m_path}/iter_results{tag}.csv', index=False, na_rep='nan')\n",
    "\n",
    "    # save best results to csv\n",
    "    y_best = df_iter_results['y'].min()\n",
    "    df_best = df_iter_results.loc[y_best == df_iter_results['y']]\n",
    "    df_best = df_best.drop_duplicates(subset=params_to_be_opt).reset_index(drop=True)\n",
    "    df_best = df_best.sort_values(by=params_to_be_opt).reset_index(drop=True)\n",
    "    df_best = df_best[['y', 'auc']+params_to_be_opt]\n",
    "    df_best.to_csv(f'{m_path}/best_params_points{tag}.csv', index=False, na_rep='nan')\n",
    "\n",
    "    n_best_params_points = len(df_best)\n",
    "\n",
    "    print('\\nBest hyperparameters:')\n",
    "    for index,row in df_best.iterrows():\n",
    "        if n_best_params_points > 1:\n",
    "            print(f'\\nPoint {index}:')\n",
    "\n",
    "        for param in params_to_be_opt:\n",
    "            print(f'{param}: {row[param]}')\n",
    "\n",
    "    if n_best_params_points > 1:\n",
    "        print('Parameter Mean and St Dev:')\n",
    "        for param in params_to_be_opt:\n",
    "            param_values = df_best[param].values\n",
    "            print(f'{param} Mean: {np.mean(param_values)}, St Dev: {np.std(param_values)}')\n",
    "\n",
    "    if y_initial is not None:\n",
    "        print(f'\\n   Best y: {y_best:.5f} (should be smaller than initial), a decrease of {y_initial-y_best:.5f}, {(y_initial-y_best)/y_initial:.3%}')\n",
    "        print(f'Initial y: {y_initial:.5f}')"
   ]
  },
  {
   "cell_type": "markdown",
   "metadata": {},
   "source": [
    "### Gaussian Process Surrogate"
   ]
  },
  {
   "cell_type": "code",
   "execution_count": null,
   "metadata": {},
   "outputs": [],
   "source": [
    "# radial basis function + white noise kernel\n",
    "bo_gp_opt = Optimizer(dimensions=dimensions, n_initial_points=np.ceil(frac_initial_points*n_iters['GP']), acq_func=acq_func, random_state=rnd_seed+6,\n",
    "                      base_estimator=GaussianProcessRegressor(\n",
    "                          kernel=RBF(length_scale_bounds=[1.0e-3, 1.0e+3]) + WhiteKernel(noise_level=1.0e-5, noise_level_bounds=[1.0e-6, 1.0e-2])\n",
    "                      ),\n",
    "                     )"
   ]
  },
  {
   "cell_type": "code",
   "execution_count": null,
   "metadata": {},
   "outputs": [],
   "source": [
    "run_bo(bo_gp_opt, bo_n_iter=n_iters['GP'], ann_text='GP', tag='_GP', params_initial=params_initial, y_initial=y_initial, print_interval=25)"
   ]
  },
  {
   "cell_type": "markdown",
   "metadata": {},
   "source": [
    "### Random Forest Surrogate"
   ]
  },
  {
   "cell_type": "code",
   "execution_count": null,
   "metadata": {},
   "outputs": [],
   "source": [
    "bo_rf_opt = Optimizer(dimensions=dimensions, n_initial_points=np.ceil(frac_initial_points*n_iters['RF']), acq_func=acq_func, random_state=rnd_seed+7,\n",
    "                      base_estimator=RandomForestRegressor(n_estimators=200, max_depth=8, random_state=rnd_seed+8),\n",
    "                     )"
   ]
  },
  {
   "cell_type": "code",
   "execution_count": null,
   "metadata": {},
   "outputs": [],
   "source": [
    "run_bo(bo_rf_opt, bo_n_iter=n_iters['RF'], ann_text='RF', tag='_RF', params_initial=params_initial, y_initial=y_initial, print_interval=25)"
   ]
  },
  {
   "cell_type": "markdown",
   "metadata": {},
   "source": [
    "### Gradient Boosted Trees Surrogate"
   ]
  },
  {
   "cell_type": "code",
   "execution_count": null,
   "metadata": {},
   "outputs": [],
   "source": [
    "gbrt_base_estimator = GradientBoostingQuantileRegressor(\n",
    "    base_estimator=GradientBoostingRegressor(loss='quantile', max_depth=8, learning_rate=0.1, n_estimators=200,\n",
    "                                             n_iter_no_change=10, validation_fraction=0.2, tol=0.0001, random_state=rnd_seed+9)\n",
    ")\n",
    "\n",
    "bo_bdt_opt = Optimizer(dimensions=dimensions, n_initial_points=np.ceil(frac_initial_points*n_iters['GBDT']), acq_func=acq_func,\n",
    "                       random_state=rnd_seed+10, base_estimator=gbrt_base_estimator)"
   ]
  },
  {
   "cell_type": "code",
   "execution_count": null,
   "metadata": {},
   "outputs": [],
   "source": [
    "run_bo(bo_bdt_opt, bo_n_iter=n_iters['GBDT'], ann_text='GBDT', tag='_GBDT', params_initial=params_initial, y_initial=y_initial, print_interval=25)"
   ]
  },
  {
   "cell_type": "markdown",
   "metadata": {},
   "source": [
    "# Tree-Structured Parzen Estimator (TPE)\n",
    "Note that hyperopt with TPE can accommodate nested hyperparameter search distributions. See [here](https://towardsdatascience.com/automated-machine-learning-hyperparameter-tuning-in-python-dfda59b72f8a#951b) for more."
   ]
  },
  {
   "cell_type": "code",
   "execution_count": null,
   "metadata": {},
   "outputs": [],
   "source": [
    "tpe_trials = Trials()\n",
    "\n",
    "tpe_best = fmin(fn=objective_function, space=param_hp_dists, algo=tpe.suggest, max_evals=n_iters['TPE'], trials=tpe_trials) # TODO random_state=rnd_seed+11 ?"
   ]
  },
  {
   "cell_type": "code",
   "execution_count": null,
   "metadata": {},
   "outputs": [],
   "source": [
    "plot_convergence(y_values=tpe_trials.losses(), ann_text='TPE', tag='_TPE', y_initial=y_initial)"
   ]
  },
  {
   "cell_type": "code",
   "execution_count": null,
   "metadata": {},
   "outputs": [],
   "source": [
    "# Utility to save iteration results from hyperopt searches\n",
    "def output_hyperopt_to_csv(hyperopt_result, m_path='output', tag=''):\n",
    "    cols_dict = {}\n",
    "    cols_dict['y'] = tpe_trials.losses()\n",
    "\n",
    "    for param in params_to_be_opt:\n",
    "        cols_dict[param] = tpe_trials.vals[param]\n",
    "\n",
    "    df = pd.DataFrame(cols_dict)\n",
    "    df['auc'] = -df['y']\n",
    "    df = df.reset_index().rename(columns={'index': 'iter'})\n",
    "    df = df[['iter', 'y', 'auc']+params_to_be_opt]\n",
    "    df.to_csv(f'{m_path}/iter_results{tag}.csv', index=False, na_rep='nan')\n",
    "\n",
    "    df_best = df.copy()\n",
    "    df_best = df_best.loc[df_best['y'].min() == df_best['y']]\n",
    "    df_best = df_best.drop_duplicates(subset=params_to_be_opt).reset_index(drop=True)\n",
    "    df_best = df_best.sort_values(by=params_to_be_opt).reset_index(drop=True)\n",
    "    df_best = df_best[['y', 'auc']+params_to_be_opt]\n",
    "    df_best.to_csv(f'{m_path}/best_params_points{tag}.csv', index=False, na_rep='nan')"
   ]
  },
  {
   "cell_type": "code",
   "execution_count": null,
   "metadata": {},
   "outputs": [],
   "source": [
    "output_hyperopt_to_csv(tpe_trials, tag='_TPE')"
   ]
  },
  {
   "cell_type": "markdown",
   "metadata": {},
   "source": [
    "# Genetic Algorithm TODO"
   ]
  },
  {
   "cell_type": "markdown",
   "metadata": {},
   "source": [
    "# Evaluate Performance\n",
    "#### Make evaluation and objective (when possible) plots from skopt"
   ]
  },
  {
   "cell_type": "code",
   "execution_count": null,
   "metadata": {},
   "outputs": [],
   "source": [
    "my_plot_evaluations((rs, param_hp_dists), ann_text='RS', tag='_RS', bins=10, dimensions=params_to_be_opt)"
   ]
  },
  {
   "cell_type": "code",
   "execution_count": null,
   "metadata": {},
   "outputs": [],
   "source": [
    "my_plot_evaluations((gs, param_hp_dists), ann_text='GS', tag='_GS', bins=10, dimensions=params_to_be_opt)"
   ]
  },
  {
   "cell_type": "code",
   "execution_count": null,
   "metadata": {},
   "outputs": [],
   "source": [
    "my_plot_evaluations(bo_gp_opt, ann_text='GP', tag='_GP', bins=10, dimensions=params_to_be_opt)\n",
    "my_plot_objective(bo_gp_opt, ann_text='GP', tag='_GP', dimensions=params_to_be_opt)"
   ]
  },
  {
   "cell_type": "code",
   "execution_count": null,
   "metadata": {},
   "outputs": [],
   "source": [
    "my_plot_evaluations(bo_rf_opt, ann_text='RF', tag='_RF', bins=10, dimensions=params_to_be_opt)\n",
    "my_plot_objective(bo_rf_opt, ann_text='RF', tag='_RF', dimensions=params_to_be_opt) # takes much longer for these partial dependencies"
   ]
  },
  {
   "cell_type": "code",
   "execution_count": null,
   "metadata": {},
   "outputs": [],
   "source": [
    "my_plot_evaluations(bo_bdt_opt, ann_text='GBDT', tag='_GBDT', bins=10, dimensions=params_to_be_opt)\n",
    "my_plot_objective(bo_bdt_opt, ann_text='GBDT', tag='_GBDT', dimensions=params_to_be_opt)"
   ]
  },
  {
   "cell_type": "code",
   "execution_count": null,
   "metadata": {},
   "outputs": [],
   "source": [
    "my_plot_evaluations((tpe_trials, param_hp_dists), ann_text='TPE', tag='_TPE', bins=10, dimensions=params_to_be_opt)"
   ]
  },
  {
   "cell_type": "markdown",
   "metadata": {},
   "source": [
    "#### Load best parameters from all optimizers"
   ]
  },
  {
   "cell_type": "code",
   "execution_count": null,
   "metadata": {},
   "outputs": [],
   "source": [
    "def combine_best_results(optimizer_abbrevs, m_path='output'):\n",
    "    def load_df(fname, tag='', m_path=m_path, cols_int=[], cols_str=[]):\n",
    "        full_fname = f'{m_path}/{fname}{tag}.csv'\n",
    "        try:\n",
    "            df = pd.read_csv(full_fname)\n",
    "            for col in df.columns:\n",
    "                if col in cols_int:\n",
    "                    df[col] = df[col].astype(int)\n",
    "                elif col in cols_str:\n",
    "                    df[col] = df[col].astype(str)\n",
    "                else:\n",
    "                    df[col] = df[col].astype(float)\n",
    "            return df\n",
    "        except:\n",
    "            raise ValueError('Could not open csv!')\n",
    "\n",
    "    df_best_results = None\n",
    "\n",
    "    for opt_name in optimizer_abbrevs:\n",
    "        df = load_df('best_params_points', tag=f'_{opt_name}', cols_int=['max_depth'])\n",
    "        df['optimizer'] = opt_name\n",
    "        if df_best_results is None:\n",
    "            df_best_results = df.copy()\n",
    "        else:\n",
    "            df_best_results = pd.concat([df_best_results, df])\n",
    "\n",
    "    initial_row = {'optimizer': 'Initial', 'y': y_initial, 'auc': -y_initial}\n",
    "    for param in params_to_be_opt:\n",
    "        initial_row[param] = params_initial[param]\n",
    "    df_best_results = df_best_results.append(initial_row, ignore_index=True)\n",
    "\n",
    "    df_best_results['per_change'] = 100.*(y_initial - df_best_results['y'])/y_initial\n",
    "\n",
    "    df_best_results = df_best_results.sort_values(by='y', ascending=True).reset_index(drop=True)\n",
    "    fixed_cols = ['optimizer', 'y', 'per_change', 'auc']+params_to_be_opt\n",
    "    cols = fixed_cols + list(set(df_best_results.columns)-set(fixed_cols))\n",
    "    df_best_results = df_best_results[cols]\n",
    "\n",
    "    df_best_results.to_csv(f'{m_path}/all_best_results.csv', index=False, na_rep='nan')\n",
    "\n",
    "    return df_best_results"
   ]
  },
  {
   "cell_type": "code",
   "execution_count": null,
   "metadata": {},
   "outputs": [],
   "source": [
    "optimizer_abbrevs = ['RS', 'GS', 'GP', 'RF', 'GBDT', 'TPE']\n",
    "\n",
    "df_best_results = combine_best_results(optimizer_abbrevs, m_path='output')"
   ]
  },
  {
   "cell_type": "code",
   "execution_count": null,
   "metadata": {},
   "outputs": [],
   "source": [
    "df_best_results"
   ]
  },
  {
   "cell_type": "markdown",
   "metadata": {},
   "source": [
    "#### Evaluate models with the best parameters from each optimizer"
   ]
  },
  {
   "cell_type": "code",
   "execution_count": null,
   "metadata": {},
   "outputs": [],
   "source": [
    "def eval_best_models(df_best_results):\n",
    "    best_models = {}\n",
    "    for index, row in df_best_results.iterrows():\n",
    "        params = {param: row[param] for k in params_to_be_opt}\n",
    "\n",
    "        this_model = xgb.XGBClassifier(n_estimators=fixed_setup_params['max_num_boost_rounds'],\n",
    "                                       objective=fixed_setup_params['xgb_objective'],\n",
    "                                       verbosity=fixed_setup_params['xgb_verbosity'],\n",
    "                                       random_state=rnd_seed+12, **params)\n",
    "        this_model.fit(X_train, y_train, **fixed_fit_params)\n",
    "\n",
    "        y_holdout_pred = this_model.predict_proba(X_holdout, ntree_limit=this_model.best_ntree_limit)[:,1]\n",
    "\n",
    "        fpr, tpr, thr = roc_curve(y_holdout, y_holdout_pred)\n",
    "\n",
    "        best_models[row['optimizer']] = dict({'model': this_model, 'y_holdout_pred': y_holdout_pred, 'fpr': fpr, 'tpr': tpr, 'thr': thr}, **row)\n",
    "\n",
    "    return best_models"
   ]
  },
  {
   "cell_type": "code",
   "execution_count": null,
   "metadata": {},
   "outputs": [],
   "source": [
    "best_models = eval_best_models(df_best_results)"
   ]
  },
  {
   "cell_type": "markdown",
   "metadata": {},
   "source": [
    "#### Plot ROC curves"
   ]
  },
  {
   "cell_type": "code",
   "execution_count": null,
   "metadata": {},
   "outputs": [],
   "source": [
    "models_for_roc= [\n",
    "    {'name': 'Initial', 'nname': 'Initial', 'fpr': best_models['Initial']['fpr'], 'tpr': best_models['Initial']['tpr'], 'c': 'black', 'ls': '-'},\n",
    "    {'name': 'RS', 'nname': 'RS', 'fpr': best_models['RS']['fpr'], 'tpr': best_models['RS']['tpr'], 'c': 'C0', 'ls': ':'},\n",
    "    {'name': 'GS', 'nname': 'GS', 'fpr': best_models['GS']['fpr'], 'tpr': best_models['GS']['tpr'], 'c': 'C1', 'ls': '-.'},\n",
    "    {'name': 'GP', 'nname': 'GP', 'fpr': best_models['GP']['fpr'], 'tpr': best_models['GP']['tpr'], 'c': 'C2', 'ls': '-'},\n",
    "    {'name': 'RF', 'nname': 'RF', 'fpr': best_models['RF']['fpr'], 'tpr': best_models['RF']['tpr'], 'c': 'C3', 'ls': ':'},\n",
    "    {'name': 'GBDT', 'nname': 'GBDT', 'fpr': best_models['GBDT']['fpr'], 'tpr': best_models['GBDT']['tpr'], 'c': 'C4', 'ls': '--'},\n",
    "    {'name': 'TPE', 'nname': 'TPE', 'fpr': best_models['TPE']['fpr'], 'tpr': best_models['TPE']['tpr'], 'c': 'C5', 'ls': '-.'},\n",
    "]"
   ]
  },
  {
   "cell_type": "code",
   "execution_count": null,
   "metadata": {},
   "outputs": [],
   "source": [
    "plot_rocs(models_for_roc, rndGuess=True, inverse_log=False, inline=True)\n",
    "plot_rocs(models_for_roc, rndGuess=False, inverse_log=True, x_axis_params={'max':0.4}, y_axis_params={'max':1e1}, inline=True)"
   ]
  },
  {
   "cell_type": "markdown",
   "metadata": {},
   "source": [
    "#### Plot predictions $\\hat{y}$"
   ]
  },
  {
   "cell_type": "code",
   "execution_count": null,
   "metadata": {},
   "outputs": [],
   "source": [
    "for k,v in best_models.items():\n",
    "    plot_y_pred(v['y_holdout_pred'], y_holdout, tag=f'_{k}', ann_text=k, nbins=20)"
   ]
  },
  {
   "cell_type": "markdown",
   "metadata": {},
   "source": [
    "# Dev"
   ]
  },
  {
   "cell_type": "code",
   "execution_count": null,
   "metadata": {},
   "outputs": [],
   "source": [
    "raise ValueError('Stop Here, in Dev!')"
   ]
  },
  {
   "cell_type": "code",
   "execution_count": null,
   "metadata": {},
   "outputs": [],
   "source": [
    "from plotting import *"
   ]
  },
  {
   "cell_type": "code",
   "execution_count": null,
   "metadata": {},
   "outputs": [],
   "source": []
  }
 ],
 "metadata": {
  "kernelspec": {
   "display_name": "Python 3",
   "language": "python",
   "name": "python3"
  },
  "language_info": {
   "codemirror_mode": {
    "name": "ipython",
    "version": 3
   },
   "file_extension": ".py",
   "mimetype": "text/x-python",
   "name": "python",
   "nbconvert_exporter": "python",
   "pygments_lexer": "ipython3",
   "version": "3.7.4"
  }
 },
 "nbformat": 4,
 "nbformat_minor": 4
}
